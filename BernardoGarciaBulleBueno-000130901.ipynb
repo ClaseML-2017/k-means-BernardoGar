{
 "cells": [
  {
   "cell_type": "code",
   "execution_count": 1,
   "metadata": {},
   "outputs": [],
   "source": [
    "import pandas as pd\n",
    "import sklearn.cluster as clu\n",
    "import sklearn.model_selection as ms\n",
    "import matplotlib.pyplot as plt\n",
    "import sklearn.ensemble as ens\n",
    "import sklearn.preprocessing as pre"
   ]
  },
  {
   "cell_type": "code",
   "execution_count": 2,
   "metadata": {},
   "outputs": [],
   "source": [
    "abalone=pd.read_csv('http://archive.ics.uci.edu/ml/machine-learning-databases/abalone/abalone.data')\n",
    "abalone.columns=['Sex', 'Len', 'Dia', 'Hei', 'WWei', 'SuWei', 'VWei', 'ShWei', 'Rin']\n",
    "abalone['Fem']=(abalone['Sex']=='F')\n",
    "abalone['I']=(abalone['Sex']=='I')\n",
    "aux=abalone.pop('Sex')"
   ]
  },
  {
   "cell_type": "code",
   "execution_count": 3,
   "metadata": {},
   "outputs": [
    {
     "data": {
      "image/png": "[encoded data removed]",
      "text/plain": [
       "<matplotlib.figure.Figure at 0x10f486400>"
      ]
     },
     "metadata": {},
     "output_type": "display_data"
    }
   ],
   "source": [
    "tr, ts=ms.train_test_split(abalone, test_size=.33)\n",
    "tr1, tr2=ms.train_test_split(abalone, test_size=.5)\n",
    "scores=[]\n",
    "for s in range(2,40):\n",
    "    km = clu.KMeans(n_clusters=s, random_state=0).fit(tr1)\n",
    "    scores.append(km.score(tr1))\n",
    "plt.plot(scores)\n",
    "plt.ylabel('Scores')\n",
    "plt.xticks(range(2,40, 4))\n",
    "plt.show()"
   ]
  },
  {
   "cell_type": "markdown",
   "metadata": {},
   "source": [
    "Hay un kink en 5 clusters, usaremos 5 y 9, debido a que hay un kink en 9 (ver abajo) en el caso normalizado"
   ]
  },
  {
   "cell_type": "code",
   "execution_count": 4,
   "metadata": {
    "scrolled": true
   },
   "outputs": [
    {
     "name": "stdout",
     "output_type": "stream",
     "text": [
      "Con  5  clusters sin normalización\n",
      "La predicción para cluster  0 es  69 %\n",
      "La predicción para cluster  1 es  92 %\n",
      "La predicción para cluster  2 es  95 %\n",
      "La predicción para cluster  3 es  74 %\n",
      "La predicción para cluster  4 es  80 %\n",
      "La predicción promedio  4 es  82 %\n",
      "Con  9  clusters sin normalización\n",
      "La predicción para cluster  0 es  69 %\n",
      "La predicción para cluster  1 es  95 %\n",
      "La predicción para cluster  2 es  95 %\n",
      "La predicción para cluster  3 es  74 %\n",
      "La predicción para cluster  4 es  80 %\n",
      "La predicción promedio  4 es  83 %\n"
     ]
    }
   ],
   "source": [
    "for clus in [5, 9]:\n",
    "    print(\"Con \", clus, \" clusters sin normalización\")\n",
    "    km = clu.KMeans(n_clusters=5, random_state=0).fit(tr1)\n",
    "    tr2cc=tr2.copy()\n",
    "    tscc=ts.copy()\n",
    "    tr2cc['cl'] =km.predict(tr2)\n",
    "    tscc['cl'] =km.predict(ts)\n",
    "    prom=0\n",
    "    for s in range(5):\n",
    "        rfc=ens.RandomForestClassifier(n_estimators=100, max_depth=1).fit(tr2, tr2cc['cl']==s)\n",
    "        aux=rfc.score(ts, tscc['cl']==s)\n",
    "        prom=prom+aux/5\n",
    "        print(\"La predicción para cluster \",s,\"es \",int(aux*100),\"%\")\n",
    "    print(\"La predicción promedio \",s,\"es \",int(prom*100),\"%\")"
   ]
  },
  {
   "cell_type": "markdown",
   "metadata": {},
   "source": [
    "Con normalizacion"
   ]
  },
  {
   "cell_type": "code",
   "execution_count": 5,
   "metadata": {},
   "outputs": [
    {
     "data": {
      "image/png": "[encoded data removed]",
      "text/plain": [
       "<matplotlib.figure.Figure at 0x10f598978>"
      ]
     },
     "metadata": {},
     "output_type": "display_data"
    }
   ],
   "source": [
    "tr, ts=ms.train_test_split(abalone, test_size=.33)\n",
    "tr1, tr2=ms.train_test_split(abalone, test_size=.5)\n",
    "stand=pre.StandardScaler().fit(tr1)\n",
    "tr1=pd.DataFrame(stand.transform(tr1))\n",
    "tr2=pd.DataFrame(stand.transform(tr2))\n",
    "ts=pd.DataFrame(stand.transform(ts))\n",
    "\n",
    "scores=[]\n",
    "for s in range(2,40):\n",
    "    km = clu.KMeans(n_clusters=s, random_state=0).fit(tr1)\n",
    "    scores.append(km.score(tr1))\n",
    "plt.plot(scores)\n",
    "plt.ylabel('Scores')\n",
    "plt.xticks(range(2,40, 4))\n",
    "plt.show()"
   ]
  },
  {
   "cell_type": "markdown",
   "metadata": {},
   "source": [
    "El kink se movió, por eso usamos también 9."
   ]
  },
  {
   "cell_type": "code",
   "execution_count": 6,
   "metadata": {},
   "outputs": [
    {
     "name": "stdout",
     "output_type": "stream",
     "text": [
      "Con  5  clusters sin normalización\n",
      "La predicción para cluster  0 es  77 %\n",
      "La predicción para cluster  1 es  98 %\n",
      "La predicción para cluster  2 es  95 %\n",
      "La predicción para cluster  3 es  80 %\n",
      "La predicción para cluster  4 es  78 %\n",
      "La predicción promedio  4 es  86 %\n",
      "Con  9  clusters sin normalización\n",
      "La predicción para cluster  0 es  77 %\n",
      "La predicción para cluster  1 es  98 %\n",
      "La predicción para cluster  2 es  95 %\n",
      "La predicción para cluster  3 es  80 %\n",
      "La predicción para cluster  4 es  78 %\n",
      "La predicción promedio  4 es  86 %\n"
     ]
    }
   ],
   "source": [
    "for clus in [5, 9]:\n",
    "    print(\"Con \", clus, \" clusters sin normalización\")\n",
    "    km = clu.KMeans(n_clusters=5, random_state=0).fit(tr1)\n",
    "    tr2cc=tr2.copy()\n",
    "    tscc=ts.copy()\n",
    "    tr2cc['cl'] =km.predict(tr2)\n",
    "    tscc['cl'] =km.predict(ts)\n",
    "    prom=0\n",
    "    for s in range(5):\n",
    "        rfc=ens.RandomForestClassifier(n_estimators=100, max_depth=1).fit(tr2, tr2cc['cl']==s)\n",
    "        aux=rfc.score(ts, tscc['cl']==s)\n",
    "        prom=prom+aux/5\n",
    "        print(\"La predicción para cluster \",s,\"es \",int(aux*100),\"%\")\n",
    "    print(\"La predicción promedio \",s,\"es \",int(prom*100),\"%\")"
   ]
  },
  {
   "cell_type": "markdown",
   "metadata": {},
   "source": [
    "La predicción promedio mejoró en ambos casos para lo normalizado"
   ]
  },
  {
   "cell_type": "code",
   "execution_count": null,
   "metadata": {},
   "outputs": [],
   "source": []
  }
 ],
 "metadata": {
  "kernelspec": {
   "display_name": "Python 3",
   "language": "python",
   "name": "python3"
  },
  "language_info": {
   "codemirror_mode": {
    "name": "ipython",
    "version": 3
   },
   "file_extension": ".py",
   "mimetype": "text/x-python",
   "name": "python",
   "nbconvert_exporter": "python",
   "pygments_lexer": "ipython3",
   "version": "3.5.2"
  }
 },
 "nbformat": 4,
 "nbformat_minor": 2
}
